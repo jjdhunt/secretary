{
 "cells": [
  {
   "cell_type": "code",
   "execution_count": null,
   "metadata": {},
   "outputs": [],
   "source": [
    "%load_ext autoreload\n",
    "%autoreload 2"
   ]
  },
  {
   "cell_type": "code",
   "execution_count": null,
   "metadata": {},
   "outputs": [],
   "source": [
    "import sys\n",
    "sys.path.append('../secretary')\n",
    "\n",
    "import pandas as pd\n",
    "from secretary import todo"
   ]
  },
  {
   "cell_type": "code",
   "execution_count": null,
   "metadata": {},
   "outputs": [],
   "source": [
    "td = todo.Todo()\n",
    "\n",
    "tasks = [\n",
    "    {\n",
    "    \"topic\": \"Shopping\",\n",
    "    \"type\": \"action_item\",\n",
    "    \"date\": \"2022-04-14 00:00:00\",\n",
    "    \"requestor\": \"Jack\",\n",
    "    \"actor\": \"Silvia\",\n",
    "    \"summary\": \"Buy shoes\",\n",
    "    \"details\": \"Siliva needs to buy some cool new kicks.\"\n",
    "   },\n",
    "  {\n",
    "    \"topic\": \"Grocery Shopping\",\n",
    "    \"type\": \"action_item\",\n",
    "    \"date\": \"2023-05-14 00:00:00\",\n",
    "    \"requestor\": \"Jack\",\n",
    "    \"actor\": \"Jack\",\n",
    "    \"summary\": \"Buy eggs\",\n",
    "    \"details\": \"I need to buy eggs\"\n",
    "  }\n",
    "]\n",
    "\n",
    "pd.DataFrame(tasks)"
   ]
  },
  {
   "cell_type": "code",
   "execution_count": null,
   "metadata": {},
   "outputs": [],
   "source": [
    "td.add_to_database(pd.DataFrame(tasks))\n",
    "td.df"
   ]
  },
  {
   "cell_type": "code",
   "execution_count": null,
   "metadata": {},
   "outputs": [],
   "source": [
    "\n",
    "td.get_similar_records(\"2022-04-14 shoes!!\")\n",
    "\n"
   ]
  }
 ],
 "metadata": {
  "kernelspec": {
   "display_name": ".venv",
   "language": "python",
   "name": "python3"
  },
  "language_info": {
   "codemirror_mode": {
    "name": "ipython",
    "version": 3
   },
   "file_extension": ".py",
   "mimetype": "text/x-python",
   "name": "python",
   "nbconvert_exporter": "python",
   "pygments_lexer": "ipython3",
   "version": "3.9.6"
  }
 },
 "nbformat": 4,
 "nbformat_minor": 2
}
