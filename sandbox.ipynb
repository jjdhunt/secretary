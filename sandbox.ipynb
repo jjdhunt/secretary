{
 "cells": [
  {
   "cell_type": "code",
   "execution_count": 1,
   "metadata": {},
   "outputs": [],
   "source": [
    "%load_ext autoreload\n",
    "%autoreload 2"
   ]
  },
  {
   "cell_type": "code",
   "execution_count": 2,
   "metadata": {},
   "outputs": [],
   "source": [
    "import sys\n",
    "sys.path.append('../secretary')\n",
    "\n",
    "import pandas as pd\n",
    "from secretary import todo"
   ]
  },
  {
   "cell_type": "code",
   "execution_count": 3,
   "metadata": {},
   "outputs": [
    {
     "data": {
      "text/html": [
       "<div>\n",
       "<style scoped>\n",
       "    .dataframe tbody tr th:only-of-type {\n",
       "        vertical-align: middle;\n",
       "    }\n",
       "\n",
       "    .dataframe tbody tr th {\n",
       "        vertical-align: top;\n",
       "    }\n",
       "\n",
       "    .dataframe thead th {\n",
       "        text-align: right;\n",
       "    }\n",
       "</style>\n",
       "<table border=\"1\" class=\"dataframe\">\n",
       "  <thead>\n",
       "    <tr style=\"text-align: right;\">\n",
       "      <th></th>\n",
       "      <th>topic</th>\n",
       "      <th>type</th>\n",
       "      <th>date</th>\n",
       "      <th>requestor</th>\n",
       "      <th>actor</th>\n",
       "      <th>summary</th>\n",
       "      <th>details</th>\n",
       "    </tr>\n",
       "  </thead>\n",
       "  <tbody>\n",
       "    <tr>\n",
       "      <th>0</th>\n",
       "      <td>Shopping</td>\n",
       "      <td>action_item</td>\n",
       "      <td>2022-04-14 00:00:00</td>\n",
       "      <td>Jack</td>\n",
       "      <td>Silvia</td>\n",
       "      <td>Buy shoes</td>\n",
       "      <td>Siliva needs to buy some cool new kicks.</td>\n",
       "    </tr>\n",
       "    <tr>\n",
       "      <th>1</th>\n",
       "      <td>Grocery Shopping</td>\n",
       "      <td>action_item</td>\n",
       "      <td>2023-05-14 00:00:00</td>\n",
       "      <td>Jack</td>\n",
       "      <td>Jack</td>\n",
       "      <td>Buy eggs</td>\n",
       "      <td>I need to buy eggs</td>\n",
       "    </tr>\n",
       "  </tbody>\n",
       "</table>\n",
       "</div>"
      ],
      "text/plain": [
       "              topic         type                 date requestor   actor  \\\n",
       "0          Shopping  action_item  2022-04-14 00:00:00      Jack  Silvia   \n",
       "1  Grocery Shopping  action_item  2023-05-14 00:00:00      Jack    Jack   \n",
       "\n",
       "     summary                                   details  \n",
       "0  Buy shoes  Siliva needs to buy some cool new kicks.  \n",
       "1   Buy eggs                        I need to buy eggs  "
      ]
     },
     "execution_count": 3,
     "metadata": {},
     "output_type": "execute_result"
    }
   ],
   "source": [
    "td = todo.Todo()\n",
    "\n",
    "tasks = [\n",
    "    {\n",
    "    \"topic\": \"Shopping\",\n",
    "    \"type\": \"action_item\",\n",
    "    \"date\": \"2022-04-14 00:00:00\",\n",
    "    \"requestor\": \"Jack\",\n",
    "    \"actor\": \"Silvia\",\n",
    "    \"summary\": \"Buy shoes\",\n",
    "    \"details\": \"Siliva needs to buy some cool new kicks.\"\n",
    "   },\n",
    "  {\n",
    "    \"topic\": \"Grocery Shopping\",\n",
    "    \"type\": \"action_item\",\n",
    "    \"date\": \"2023-05-14 00:00:00\",\n",
    "    \"requestor\": \"Jack\",\n",
    "    \"actor\": \"Jack\",\n",
    "    \"summary\": \"Buy eggs\",\n",
    "    \"details\": \"I need to buy eggs\"\n",
    "  }\n",
    "]\n",
    "\n",
    "pd.DataFrame(tasks)"
   ]
  },
  {
   "cell_type": "code",
   "execution_count": 4,
   "metadata": {},
   "outputs": [
    {
     "data": {
      "text/html": [
       "<div>\n",
       "<style scoped>\n",
       "    .dataframe tbody tr th:only-of-type {\n",
       "        vertical-align: middle;\n",
       "    }\n",
       "\n",
       "    .dataframe tbody tr th {\n",
       "        vertical-align: top;\n",
       "    }\n",
       "\n",
       "    .dataframe thead th {\n",
       "        text-align: right;\n",
       "    }\n",
       "</style>\n",
       "<table border=\"1\" class=\"dataframe\">\n",
       "  <thead>\n",
       "    <tr style=\"text-align: right;\">\n",
       "      <th></th>\n",
       "      <th>topic</th>\n",
       "      <th>type</th>\n",
       "      <th>date</th>\n",
       "      <th>requestor</th>\n",
       "      <th>actor</th>\n",
       "      <th>summary</th>\n",
       "      <th>details</th>\n",
       "      <th>embedding</th>\n",
       "    </tr>\n",
       "  </thead>\n",
       "  <tbody>\n",
       "    <tr>\n",
       "      <th>0</th>\n",
       "      <td>Shopping</td>\n",
       "      <td>action_item</td>\n",
       "      <td>2022-04-14 00:00:00</td>\n",
       "      <td>Jack</td>\n",
       "      <td>Silvia</td>\n",
       "      <td>Buy shoes</td>\n",
       "      <td>Siliva needs to buy some cool new kicks.</td>\n",
       "      <td>[-0.0136561943218112, -0.016055431216955185, -...</td>\n",
       "    </tr>\n",
       "    <tr>\n",
       "      <th>1</th>\n",
       "      <td>Grocery Shopping</td>\n",
       "      <td>action_item</td>\n",
       "      <td>2023-05-14 00:00:00</td>\n",
       "      <td>Jack</td>\n",
       "      <td>Jack</td>\n",
       "      <td>Buy eggs</td>\n",
       "      <td>I need to buy eggs</td>\n",
       "      <td>[-0.04372985661029816, -0.002808217890560627, ...</td>\n",
       "    </tr>\n",
       "  </tbody>\n",
       "</table>\n",
       "</div>"
      ],
      "text/plain": [
       "              topic         type                 date requestor   actor  \\\n",
       "0          Shopping  action_item  2022-04-14 00:00:00      Jack  Silvia   \n",
       "1  Grocery Shopping  action_item  2023-05-14 00:00:00      Jack    Jack   \n",
       "\n",
       "     summary                                   details  \\\n",
       "0  Buy shoes  Siliva needs to buy some cool new kicks.   \n",
       "1   Buy eggs                        I need to buy eggs   \n",
       "\n",
       "                                           embedding  \n",
       "0  [-0.0136561943218112, -0.016055431216955185, -...  \n",
       "1  [-0.04372985661029816, -0.002808217890560627, ...  "
      ]
     },
     "execution_count": 4,
     "metadata": {},
     "output_type": "execute_result"
    }
   ],
   "source": [
    "td.add_to_database(pd.DataFrame(tasks))\n",
    "td.df"
   ]
  },
  {
   "cell_type": "code",
   "execution_count": 5,
   "metadata": {},
   "outputs": [
    {
     "data": {
      "text/plain": [
       "0    0.402705\n",
       "1    0.201025\n",
       "Name: embedding, dtype: float64"
      ]
     },
     "execution_count": 5,
     "metadata": {},
     "output_type": "execute_result"
    }
   ],
   "source": [
    "\n",
    "td.get_similar_records(\"2022-04-14 shoes.\")\n",
    "\n"
   ]
  }
 ],
 "metadata": {
  "kernelspec": {
   "display_name": ".venv",
   "language": "python",
   "name": "python3"
  },
  "language_info": {
   "codemirror_mode": {
    "name": "ipython",
    "version": 3
   },
   "file_extension": ".py",
   "mimetype": "text/x-python",
   "name": "python",
   "nbconvert_exporter": "python",
   "pygments_lexer": "ipython3",
   "version": "3.9.6"
  }
 },
 "nbformat": 4,
 "nbformat_minor": 2
}
