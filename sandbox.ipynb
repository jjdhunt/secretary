{
 "cells": [
  {
   "cell_type": "code",
   "execution_count": 1,
   "metadata": {},
   "outputs": [],
   "source": [
    "%load_ext autoreload\n",
    "%autoreload 2"
   ]
  },
  {
   "cell_type": "code",
   "execution_count": 6,
   "metadata": {},
   "outputs": [
    {
     "name": "stdout",
     "output_type": "stream",
     "text": [
      "['Latent Threat', 'Secretary']\n",
      "['To Do', 'Done']\n"
     ]
    },
    {
     "data": {
      "text/plain": [
       "{'id': '66b7cec5624e2c2423dfe034',\n",
       " 'badges': {'attachmentsByType': {'trello': {'board': 0, 'card': 0}},\n",
       "  'externalSource': None,\n",
       "  'location': False,\n",
       "  'votes': 0,\n",
       "  'viewingMemberVoted': False,\n",
       "  'subscribed': False,\n",
       "  'attachments': 0,\n",
       "  'fogbugz': '',\n",
       "  'checkItems': 0,\n",
       "  'checkItemsChecked': 0,\n",
       "  'checkItemsEarliestDue': None,\n",
       "  'comments': 0,\n",
       "  'description': False,\n",
       "  'due': None,\n",
       "  'dueComplete': False,\n",
       "  'lastUpdatedByAi': False,\n",
       "  'start': None},\n",
       " 'checkItemStates': [],\n",
       " 'closed': False,\n",
       " 'dueComplete': False,\n",
       " 'dateLastActivity': '2024-08-10T20:34:13.873Z',\n",
       " 'desc': '',\n",
       " 'descData': {'emoji': {}},\n",
       " 'due': None,\n",
       " 'dueReminder': None,\n",
       " 'email': None,\n",
       " 'idBoard': '66b7bacb22b00b912f123859',\n",
       " 'idChecklists': [],\n",
       " 'idList': '66b7baf4c8c599a2338e97a3',\n",
       " 'idMembers': [],\n",
       " 'idMembersVoted': [],\n",
       " 'idShort': 3,\n",
       " 'idAttachmentCover': None,\n",
       " 'labels': [],\n",
       " 'idLabels': [],\n",
       " 'manualCoverAttachment': False,\n",
       " 'name': 'Test Card',\n",
       " 'pos': 49152,\n",
       " 'shortLink': 'tWjq0vsf',\n",
       " 'shortUrl': 'https://trello.com/c/tWjq0vsf',\n",
       " 'start': None,\n",
       " 'subscribed': False,\n",
       " 'url': 'https://trello.com/c/tWjq0vsf/3-test-card',\n",
       " 'cover': {'idAttachment': None,\n",
       "  'color': None,\n",
       "  'idUploadedBackground': None,\n",
       "  'size': 'normal',\n",
       "  'brightness': 'dark',\n",
       "  'idPlugin': None},\n",
       " 'isTemplate': False,\n",
       " 'cardRole': None,\n",
       " 'attachments': [],\n",
       " 'stickers': [],\n",
       " 'limits': {}}"
      ]
     },
     "execution_count": 6,
     "metadata": {},
     "output_type": "execute_result"
    }
   ],
   "source": [
    "# trello demo\n",
    "\n",
    "from dotenv import load_dotenv \n",
    "import os\n",
    "import secretary.trello as trello\n",
    "boards = trello.get_boards()\n",
    "\n",
    "print([x['name'] for x in boards])\n",
    "\n",
    "board_id = trello.find_dict_by_name(boards, 'Secretary')['id']\n",
    "lists = trello.get_lists_on_board(board_id)\n",
    "\n",
    "print([x['name'] for x in lists])\n",
    "\n",
    "list_name = 'To Do'\n",
    "list_id = trello.find_dict_by_name(lists, list_name)['id']\n",
    "\n",
    "trello.create_card(list_id, name='Test Card')"
   ]
  },
  {
   "cell_type": "code",
   "execution_count": 19,
   "metadata": {},
   "outputs": [
    {
     "data": {
      "text/plain": [
       "'5b4ba4e73e6f2ca18302f77e'"
      ]
     },
     "execution_count": 19,
     "metadata": {},
     "output_type": "execute_result"
    }
   ],
   "source": [
    "boards[0].id"
   ]
  },
  {
   "cell_type": "code",
   "execution_count": 26,
   "metadata": {},
   "outputs": [],
   "source": []
  },
  {
   "cell_type": "code",
   "execution_count": 28,
   "metadata": {},
   "outputs": [
    {
     "data": {
      "text/plain": [
       "{'id': '5b4ba4e73e6f2ca18302f77f',\n",
       " 'name': 'To Do',\n",
       " 'closed': False,\n",
       " 'color': None,\n",
       " 'idBoard': '5b4ba4e73e6f2ca18302f77e',\n",
       " 'pos': 16384,\n",
       " 'subscribed': False,\n",
       " 'softLimit': None,\n",
       " 'type': None,\n",
       " 'datasource': {'filter': False}}"
      ]
     },
     "execution_count": 28,
     "metadata": {},
     "output_type": "execute_result"
    }
   ],
   "source": [
    "list_id"
   ]
  },
  {
   "cell_type": "code",
   "execution_count": null,
   "metadata": {},
   "outputs": [],
   "source": [
    "import sys\n",
    "sys.path.append('../secretary')\n",
    "\n",
    "import pandas as pd\n",
    "from secretary import todo\n",
    "import secretary.secretary_bot as sb\n",
    "from io import StringIO\n"
   ]
  },
  {
   "cell_type": "code",
   "execution_count": null,
   "metadata": {},
   "outputs": [],
   "source": [
    "response = '''{\n",
    "    \"6\":{\n",
    "        \"status\":\"*complete*\",\n",
    "        \"tags\":[\n",
    "            \"food preparation\"\n",
    "        ],\n",
    "        \"type\":\"action_item\",\n",
    "        \"due date\":\"2024-02-22\",\n",
    "        \"requestor\":\"Jack\",\n",
    "        \"actor\":\"Jack\",\n",
    "        \"summary\":\"Wrap the sandwiches for tomorrow\",\n",
    "        \"notes\":\"Jack needs to wrap the sandwiches for tomorrow. *Sandwiches have been made.*\"\n",
    "    }\n",
    "}'''\n",
    "\n",
    "df = pd.read_json(StringIO(response), orient='index')\n",
    "updated_tasks_indexes = df.index.values.tolist()\n",
    "updated_tasks_indexes\n",
    "df.loc[updated_tasks_indexes[0]]"
   ]
  },
  {
   "cell_type": "code",
   "execution_count": null,
   "metadata": {},
   "outputs": [],
   "source": [
    "message_content = \"I love peanuts and applejacks.\"\n",
    "message = \"From: Jack\\n\" + message_content\n",
    "\n",
    "df = sb.extract_tasks(message)\n",
    "df"
   ]
  },
  {
   "cell_type": "code",
   "execution_count": null,
   "metadata": {},
   "outputs": [],
   "source": [
    "message_content = \"Silvia's action item is to buy eggs by 10/03/2022.\"\n",
    "message = \"From: Jack\\n\" + message_content\n",
    "\n",
    "df = sb.extract_tasks(message)\n",
    "df"
   ]
  },
  {
   "cell_type": "code",
   "execution_count": null,
   "metadata": {},
   "outputs": [],
   "source": [
    "with open('legalese_email.txt', 'r') as file:\n",
    "    content = file.read()\n",
    "\n",
    "message = \"From: Jack\\n\" + content\n",
    "\n",
    "df_legal = sb.extract_tasks(message)\n",
    "df_legal"
   ]
  },
  {
   "cell_type": "code",
   "execution_count": null,
   "metadata": {},
   "outputs": [],
   "source": [
    "todos = todo.Todo()\n",
    "\n",
    "tasks = [\n",
    "  {\n",
    "    \"tags\": [\"shopping\", \"shoes\"],\n",
    "    \"type\": \"action_item\",\n",
    "    \"due date\": \"2024-04-14\",\n",
    "    \"requestor\": \"Jack\",\n",
    "    \"actor\": \"Jack\",\n",
    "    \"summary\": \"Buy shoes\",\n",
    "    \"notes\": \"I need to buy some cool new kicks.\"\n",
    "  },\n",
    "  {\n",
    "    \"tags\": [\"shopping\", \"groceries\"],\n",
    "    \"type\": \"action_item\",\n",
    "    \"due date\": \"2024-05-14\",\n",
    "    \"requestor\": \"Jack\",\n",
    "    \"actor\": \"Silvia\",\n",
    "    \"summary\": \"Buy eggs\",\n",
    "    \"notes\": \"Silvia needs to buy eggs\"\n",
    "  }\n",
    "]\n",
    "\n",
    "df = pd.concat([df_legal, pd.DataFrame(tasks)], ignore_index=True)\n",
    "todos.add_new_task_to_database(df)\n",
    "todos.df"
   ]
  },
  {
   "cell_type": "code",
   "execution_count": null,
   "metadata": {},
   "outputs": [],
   "source": [
    "comment = \"From: Jack\\nSilvia and I should call Wolfgang.\"\n",
    "\n",
    "print('similarity scores:')\n",
    "print(todos.get_task_similarity(comment))\n",
    "\n",
    "similar_tasks_json = todos.get_similar_tasks_as_json(comment, 0.3)\n",
    "print('Similar task(s):')\n",
    "print(similar_tasks_json)\n",
    "\n",
    "updated_tasks_df = sb.update_tasks(comment, similar_tasks_json)\n",
    "print('Updated task(s):')\n",
    "print(updated_tasks_df.to_json(orient='index', indent=4))"
   ]
  },
  {
   "cell_type": "code",
   "execution_count": null,
   "metadata": {},
   "outputs": [],
   "source": [
    "comment = 'From: Jack\\nI bought some boots.'\n",
    "\n",
    "print('similarity scores:')\n",
    "print(todos.get_task_similarity(comment))\n",
    "\n",
    "similar_tasks_json = todos.get_similar_tasks_as_json(comment, 0.3)\n",
    "print('Similar task(s):')\n",
    "print(similar_tasks_json)\n",
    "\n",
    "updated_tasks_df = sb.update_tasks(comment, similar_tasks_json)\n",
    "print('Updated task(s):')\n",
    "print(updated_tasks_df.to_json(orient='index', indent=4))"
   ]
  },
  {
   "cell_type": "code",
   "execution_count": null,
   "metadata": {},
   "outputs": [],
   "source": [
    "comment = 'From: Jack\\nI finished the task due on 04/14'\n",
    "\n",
    "print('similarity scores:')\n",
    "print(todos.get_task_similarity(comment))\n",
    "\n",
    "similar_tasks_json = todos.get_similar_tasks_as_json(comment, 0.3)\n",
    "print('Similar task(s):')\n",
    "print(similar_tasks_json)\n",
    "\n",
    "updated_tasks_df = sb.update_tasks(comment, similar_tasks_json)\n",
    "print('Updated task(s):')\n",
    "print(updated_tasks_df.to_json(orient='index', indent=4))"
   ]
  },
  {
   "cell_type": "code",
   "execution_count": null,
   "metadata": {},
   "outputs": [],
   "source": [
    "comment = 'From: Jack\\nActually, Nick should buy the eggs.'\n",
    "\n",
    "print('similarity scores:')\n",
    "print(todos.get_task_similarity(comment))\n",
    "\n",
    "similar_tasks_json = todos.get_similar_tasks_as_json(comment, 0.3)\n",
    "print('Similar task(s):')\n",
    "print(similar_tasks_json)\n",
    "\n",
    "updated_tasks_df = sb.update_tasks(comment, similar_tasks_json)\n",
    "print('Updated task(s):')\n",
    "print(updated_tasks_df.to_json(orient='index', indent=4))"
   ]
  },
  {
   "cell_type": "code",
   "execution_count": null,
   "metadata": {},
   "outputs": [],
   "source": [
    "comment = 'From: Jack\\nI just love zebras!'\n",
    "\n",
    "print('similarity scores:')\n",
    "print(todos.get_task_similarity(comment))\n",
    "\n",
    "similar_tasks_json = todos.get_similar_tasks_as_json(comment, 0.3)\n",
    "print('Similar task(s):')\n",
    "print(similar_tasks_json)\n",
    "\n",
    "updated_tasks_df = sb.update_tasks(comment, similar_tasks_json)\n",
    "print('Updated task(s):')\n",
    "print(updated_tasks_df.to_json(orient='index', indent=4))"
   ]
  },
  {
   "cell_type": "code",
   "execution_count": null,
   "metadata": {},
   "outputs": [],
   "source": [
    "comment = 'From: Jack\\nI need to hang out with Kodak soon.'\n",
    "\n",
    "print('similarity scores:')\n",
    "print(todos.get_task_similarity(comment))\n",
    "\n",
    "similar_tasks_json = todos.get_similar_tasks_as_json(comment, 0.3)\n",
    "print('Similar task(s):')\n",
    "print(similar_tasks_json)\n",
    "\n",
    "updated_tasks_df = sb.update_tasks(comment, similar_tasks_json)\n",
    "print('Updated task(s):')\n",
    "print(updated_tasks_df.to_json(orient='index', indent=4))"
   ]
  },
  {
   "cell_type": "code",
   "execution_count": null,
   "metadata": {},
   "outputs": [],
   "source": [
    "comment = 'From: Jack\\nMerge tasks 2 and 3 about the probate process estate accounts.'\n",
    "\n",
    "print('similarity scores:')\n",
    "print(todos.get_task_similarity(comment))\n",
    "\n",
    "similar_tasks_json = todos.get_similar_tasks_as_json(comment, 0.3)\n",
    "print('Similar task(s):')\n",
    "print(similar_tasks_json)\n",
    "\n",
    "updated_tasks_df = sb.update_tasks(comment, similar_tasks_json)\n",
    "print('Updated task(s):')\n",
    "print(updated_tasks_df.to_json(orient='index', indent=4))"
   ]
  },
  {
   "cell_type": "code",
   "execution_count": null,
   "metadata": {},
   "outputs": [],
   "source": [
    "comment = 'From: Jack\\nHow many probate tasks do I have open?'\n",
    "\n",
    "print('similarity scores:')\n",
    "print(todos.get_task_similarity(comment))\n",
    "\n",
    "similar_tasks_json = todos.get_similar_tasks_as_json(comment, 0.3)\n",
    "print('Similar task(s):')\n",
    "print(similar_tasks_json)\n",
    "\n",
    "answers = sb.answer_questions_about_tasks(comment, similar_tasks_json)\n",
    "print(comment)\n",
    "print(answers)"
   ]
  },
  {
   "cell_type": "code",
   "execution_count": null,
   "metadata": {},
   "outputs": [],
   "source": [
    "comment = 'From: Jack\\nWhat probate tasks do I have open?'\n",
    "\n",
    "print('similarity scores:')\n",
    "print(todos.get_task_similarity(comment))\n",
    "\n",
    "similar_tasks_json = todos.get_similar_tasks_as_json(comment, 0.3)\n",
    "print('Similar task(s):')\n",
    "print(similar_tasks_json)\n",
    "\n",
    "answers = sb.answer_questions_about_tasks(comment, similar_tasks_json)\n",
    "print(comment)\n",
    "print(answers)"
   ]
  },
  {
   "cell_type": "code",
   "execution_count": null,
   "metadata": {},
   "outputs": [],
   "source": [
    "comment = 'From: Jack\\nList the probate tasks I have open.'\n",
    "\n",
    "print('similarity scores:')\n",
    "print(todos.get_task_similarity(comment))\n",
    "\n",
    "similar_tasks_json = todos.get_similar_tasks_as_json(comment, 0.3)\n",
    "print('Similar task(s):')\n",
    "print(similar_tasks_json)\n",
    "\n",
    "answers = sb.answer_questions_about_tasks(comment, similar_tasks_json)\n",
    "print(comment)\n",
    "print(answers)"
   ]
  },
  {
   "cell_type": "code",
   "execution_count": null,
   "metadata": {},
   "outputs": [],
   "source": [
    "comment = 'From: Jack\\nI should ask Nick where Truist bank is located.'\n",
    "\n",
    "print('similarity scores:')\n",
    "print(todos.get_task_similarity(comment))\n",
    "\n",
    "similar_tasks_json = todos.get_similar_tasks_as_json(comment, 0.3)\n",
    "print('Similar task(s):')\n",
    "print(similar_tasks_json)\n",
    "\n",
    "answers = sb.answer_questions_about_tasks(comment, similar_tasks_json)\n",
    "print(comment)\n",
    "print(answers)"
   ]
  },
  {
   "cell_type": "code",
   "execution_count": null,
   "metadata": {},
   "outputs": [],
   "source": [
    "comment = 'From: Jack\\nWhere is Truist Bank based?'\n",
    "\n",
    "print('similarity scores:')\n",
    "print(todos.get_task_similarity(comment))\n",
    "\n",
    "similar_tasks_json = todos.get_similar_tasks_as_json(comment, 0.3)\n",
    "print('Similar task(s):')\n",
    "print(similar_tasks_json)\n",
    "\n",
    "answers = sb.answer_questions_about_tasks(comment, similar_tasks_json)\n",
    "print(comment)\n",
    "print(answers)"
   ]
  },
  {
   "cell_type": "code",
   "execution_count": null,
   "metadata": {},
   "outputs": [],
   "source": [
    "todos = todo.Todo('data/tasks_database')\n",
    "todos.df.drop(columns='embedding')"
   ]
  }
 ],
 "metadata": {
  "kernelspec": {
   "display_name": ".venv",
   "language": "python",
   "name": "python3"
  },
  "language_info": {
   "codemirror_mode": {
    "name": "ipython",
    "version": 3
   },
   "file_extension": ".py",
   "mimetype": "text/x-python",
   "name": "python",
   "nbconvert_exporter": "python",
   "pygments_lexer": "ipython3",
   "version": "3.9.6"
  }
 },
 "nbformat": 4,
 "nbformat_minor": 2
}
